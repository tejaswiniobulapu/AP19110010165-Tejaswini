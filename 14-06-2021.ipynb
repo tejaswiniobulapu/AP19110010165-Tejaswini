{
 "cells": [
  {
   "cell_type": "markdown",
   "metadata": {},
   "source": [
    "# Day-7 (14-06-21) Task's¶\n",
    "- Write a pattern to display 4 digit numbers from the list1\n",
    "- list1 = [5841, 987654321, 453267, 1234, 675, 8797]\n",
    "\n"
   ]
  },
  {
   "cell_type": "code",
   "execution_count": 1,
   "metadata": {},
   "outputs": [],
   "source": [
    "import re"
   ]
  },
  {
   "cell_type": "code",
   "execution_count": 2,
   "metadata": {},
   "outputs": [
    {
     "name": "stdout",
     "output_type": "stream",
     "text": [
      "6321\n",
      "0707\n",
      "6969\n",
      "4200\n"
     ]
    }
   ],
   "source": [
    "list1 = ['6321', '789163873', '425162', '0707', '007', '6969', '128372234244', '1', '4200']\n",
    "for i in list1:\n",
    "    if re.findall('^[0-9]{4}$', i):\n",
    "        print(i)\n"
   ]
  },
  {
   "cell_type": "code",
   "execution_count": 3,
   "metadata": {},
   "outputs": [
    {
     "name": "stdout",
     "output_type": "stream",
     "text": [
      "9876543210\n",
      "8123456789\n",
      "7890123456\n"
     ]
    }
   ],
   "source": [
    "ph_list = ['9876543210', '8123456789', '7890123456', '789654', '1234567890']\n",
    "for i in ph_list:\n",
    "    if re.findall('[6-9]{1}[0-9]{9}$', i):\n",
    "        print(i)\n"
   ]
  },
  {
   "cell_type": "code",
   "execution_count": null,
   "metadata": {},
   "outputs": [],
   "source": []
  }
 ],
 "metadata": {
  "kernelspec": {
   "display_name": "Python 3",
   "language": "python",
   "name": "python3"
  },
  "language_info": {
   "codemirror_mode": {
    "name": "ipython",
    "version": 3
   },
   "file_extension": ".py",
   "mimetype": "text/x-python",
   "name": "python",
   "nbconvert_exporter": "python",
   "pygments_lexer": "ipython3",
   "version": "3.7.3"
  }
 },
 "nbformat": 4,
 "nbformat_minor": 2
}
