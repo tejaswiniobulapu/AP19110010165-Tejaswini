{
 "cells": [
  {
   "cell_type": "markdown",
   "metadata": {},
   "source": [
    "## Task Day-12 (19-06-21)"
   ]
  },
  {
   "cell_type": "markdown",
   "metadata": {},
   "source": [
    "**Take a list of years between 1800 to 2030 and also display all the leap years which are divisible by 5.**\n"
   ]
  },
  {
   "cell_type": "code",
   "execution_count": 1,
   "metadata": {},
   "outputs": [
    {
     "name": "stdout",
     "output_type": "stream",
     "text": [
      "Leap years between 1800 & 2300 are: \n",
      "[1804, 1808, 1812, 1816, 1820, 1824, 1828, 1832, 1836, 1840, 1844, 1848, 1852, 1856, 1860, 1864, 1868, 1872, 1876, 1880, 1884, 1888, 1892, 1896, 1904, 1908, 1912, 1916, 1920, 1924, 1928, 1932, 1936, 1940, 1944, 1948, 1952, 1956, 1960, 1964, 1968, 1972, 1976, 1980, 1984, 1988, 1992, 1996, 2000, 2004, 2008, 2012, 2016, 2020, 2024, 2028]\n",
      "\n",
      "Leap years between 1800 & 2300 that are divisible by 5 are: \n",
      "[1820, 1840, 1860, 1880, 1920, 1940, 1960, 1980, 2000, 2020]\n"
     ]
    }
   ],
   "source": [
    "#leap years between 1800 & 2030\n",
    "def leap(y):\n",
    "    if (y % 4 == 0):\n",
    "        if (y % 100 == 0):\n",
    "            if (y % 400 == 0):\n",
    "                return True\n",
    "            else:\n",
    "                return False\n",
    "        else:\n",
    "            return True\n",
    "    else:\n",
    "        return False\n",
    "x = [y for y in range(1800, 2031) if (leap(y))]\n",
    "print(\"Leap years between 1800 & 2300 are: \")\n",
    "print(x)\n",
    "\n",
    "#Leap years between 1800 & 2300 that are divisible by 5 \n",
    "a=1800\n",
    "b=2030\n",
    "print()\n",
    "print(\"Leap years between 1800 & 2300 that are divisible by 5 are: \")\n",
    "print([z for z in range(a, b + 1) if (z%4 == 0 and z%100 != 0 and z%5==0) or (z%400 == 0)])\n"
   ]
  },
  {
   "cell_type": "code",
   "execution_count": null,
   "metadata": {},
   "outputs": [],
   "source": []
  }
 ],
 "metadata": {
  "kernelspec": {
   "display_name": "Python 3",
   "language": "python",
   "name": "python3"
  },
  "language_info": {
   "codemirror_mode": {
    "name": "ipython",
    "version": 3
   },
   "file_extension": ".py",
   "mimetype": "text/x-python",
   "name": "python",
   "nbconvert_exporter": "python",
   "pygments_lexer": "ipython3",
   "version": "3.7.3"
  }
 },
 "nbformat": 4,
 "nbformat_minor": 2
}
