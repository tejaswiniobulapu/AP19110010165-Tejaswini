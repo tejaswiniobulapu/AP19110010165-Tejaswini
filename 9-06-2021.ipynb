{
 "cells": [
  {
   "cell_type": "markdown",
   "metadata": {},
   "source": [
    "# Take last 3 values of roll number(AP19110010016)¶\n",
    "- if the value starts with \"01\" -> 'CSE Dept'\n",
    "- elif value satrts with '11'-> 'IT Dept'\n",
    "- elif value starts with \"21\" -> 'ECE Dept'\n",
    "- else not an SRM Student"
   ]
  },
  {
   "cell_type": "code",
   "execution_count": 2,
   "metadata": {},
   "outputs": [
    {
     "name": "stdout",
     "output_type": "stream",
     "text": [
      "Enter your roll no: AP19110010016\n",
      "AP19110010016 Belongs to CSE Department\n"
     ]
    }
   ],
   "source": [
    "string = input(\"Enter your roll no: \")\n",
    "string[-3:]\n",
    "\n",
    "if(string[-3:].startswith ('01')):\n",
    "    print(string, 'Belongs to CSE Department')\n",
    "\n",
    "elif(string[-3:].startswith ('11')):\n",
    "    print(string, 'Belongs to IT Department')\n",
    "\n",
    "elif(string[-3:].startswith ('21')):\n",
    "    print(string, 'Belongs to ECE Department')\n",
    "    \n",
    "else:\n",
    "    print(string, 'is not an SRM Student')\n"
   ]
  },
  {
   "cell_type": "code",
   "execution_count": null,
   "metadata": {},
   "outputs": [],
   "source": []
  }
 ],
 "metadata": {
  "kernelspec": {
   "display_name": "Python 3",
   "language": "python",
   "name": "python3"
  },
  "language_info": {
   "codemirror_mode": {
    "name": "ipython",
    "version": 3
   },
   "file_extension": ".py",
   "mimetype": "text/x-python",
   "name": "python",
   "nbconvert_exporter": "python",
   "pygments_lexer": "ipython3",
   "version": "3.7.3"
  }
 },
 "nbformat": 4,
 "nbformat_minor": 2
}
