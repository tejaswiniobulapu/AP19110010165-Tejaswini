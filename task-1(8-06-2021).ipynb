{
 "cells": [
  {
   "cell_type": "code",
   "execution_count": 2,
   "metadata": {},
   "outputs": [
    {
     "name": "stdout",
     "output_type": "stream",
     "text": [
      "20\n",
      "eligible for vote\n"
     ]
    }
   ],
   "source": [
    "# Write a program to check if the user is elgible to vote or not.\n",
    "a= int(input())\n",
    "if(a>=18):\n",
    "    print(\"eligible for vote\")\n",
    "else:\n",
    "    print(\"not eligible for vote\")"
   ]
  },
  {
   "cell_type": "code",
   "execution_count": 4,
   "metadata": {},
   "outputs": [
    {
     "name": "stdout",
     "output_type": "stream",
     "text": [
      "5\n",
      "positive number\n"
     ]
    }
   ],
   "source": [
    "#Write a program  to check if the given number is positive or not\n",
    "a=int(input())\n",
    "if(a>=0):\n",
    "    print(\"positive number\")\n",
    "else:\n",
    "    print(\"negative number\")"
   ]
  },
  {
   "cell_type": "code",
   "execution_count": 13,
   "metadata": {},
   "outputs": [
    {
     "name": "stdout",
     "output_type": "stream",
     "text": [
      "0\n",
      "given number is even \n",
      "given number is even and divisible by 4\n"
     ]
    }
   ],
   "source": [
    "#Check the given number is odd or even, if it's even then check if it is also divisible by 4 or not\n",
    "a=int(input())\n",
    "if (a%2==0):\n",
    "    print(\"given number is even \")\n",
    "else:\n",
    "    print(\"given number is odd\")\n",
    "if (a%4==0):\n",
    "    print(\"given number is even and divisible by 4\")"
   ]
  },
  {
   "cell_type": "code",
   "execution_count": 15,
   "metadata": {},
   "outputs": [
    {
     "name": "stdout",
     "output_type": "stream",
     "text": [
      "20\n",
      "fail\n"
     ]
    }
   ],
   "source": [
    "#write a program to print student grade based on percentage\n",
    "a=int(input())\n",
    "if(a>80 and a<=100):\n",
    "    print(\"passed with distinction\")\n",
    "elif(a>50 and a<=80):\n",
    "    print(\"pass\")\n",
    "else:\n",
    "    print(\"fail\")"
   ]
  },
  {
   "cell_type": "code",
   "execution_count": 2,
   "metadata": {},
   "outputs": [
    {
     "name": "stdout",
     "output_type": "stream",
     "text": [
      "Enter the year: 2016\n",
      "2016 is a leap year\n"
     ]
    }
   ],
   "source": [
    "#check the given year is leap year or not\n",
    "year = int(input(\"Enter the year: \"))\n",
    "if (year % 4) == 0:\n",
    "    if (year % 100) == 0:\n",
    "        if (year % 400) == 0:\n",
    "            print(\"{0} is a leap year\".format(year))\n",
    "        else:\n",
    "            print(\"{0} is not a leap year\".format(year))\n",
    "    else:\n",
    "        print(\"{0} is a leap year\".format(year))\n",
    "else:\n",
    "    print(\"{0} is not a leap year\".format(year))\n"
   ]
  },
  {
   "cell_type": "code",
   "execution_count": null,
   "metadata": {},
   "outputs": [],
   "source": []
  }
 ],
 "metadata": {
  "kernelspec": {
   "display_name": "Python 3",
   "language": "python",
   "name": "python3"
  },
  "language_info": {
   "codemirror_mode": {
    "name": "ipython",
    "version": 3
   },
   "file_extension": ".py",
   "mimetype": "text/x-python",
   "name": "python",
   "nbconvert_exporter": "python",
   "pygments_lexer": "ipython3",
   "version": "3.7.3"
  }
 },
 "nbformat": 4,
 "nbformat_minor": 2
}
