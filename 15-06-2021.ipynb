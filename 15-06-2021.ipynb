{
 "cells": [
  {
   "cell_type": "markdown",
   "metadata": {},
   "source": [
    "# Day-8 (15-06-21) Task's¶\n",
    "Create a function for finding the leap years in the given range\n",
    "\n"
   ]
  },
  {
   "cell_type": "code",
   "execution_count": 2,
   "metadata": {},
   "outputs": [
    {
     "name": "stdout",
     "output_type": "stream",
     "text": [
      "Enter the starting year: 1800\n",
      "Enter the ending year: 2021\n",
      "Leap years between the range 1800 and 2021 are\n",
      "1804,1808,1812,1816,1820,1824,1828,1832,1836,1840,1844,1848,1852,1856,1860,1864,1868,1872,1876,1880,1884,1888,1892,1896,1904,1908,1912,1916,1920,1924,1928,1932,1936,1940,1944,1948,1952,1956,1960,1964,1968,1972,1976,1980,1984,1988,1992,1996,2000,2004,2008,2012,2016,2020,"
     ]
    }
   ],
   "source": [
    "def leap_year(x):\n",
    "    if (x%4==0 and x%100!=0 or x%400==0):\n",
    "        return True\n",
    "    else:\n",
    "        return False\n",
    "start = int(input(\"Enter the starting year: \"))\n",
    "end = int(input(\"Enter the ending year: \"))\n",
    "print(\"Leap years between the range\", start, \"and\", end, \"are\")\n",
    "for i in range(start, end):\n",
    "    if leap_year(i) == True:\n",
    "        print(i,end=',')\n"
   ]
  },
  {
   "cell_type": "markdown",
   "metadata": {},
   "source": [
    "Create a function for getting armstrong numbers within the given range\n",
    "\n"
   ]
  },
  {
   "cell_type": "code",
   "execution_count": 4,
   "metadata": {},
   "outputs": [
    {
     "name": "stdout",
     "output_type": "stream",
     "text": [
      "Enter the start number: 100\n",
      "Enter the final number: 500\n",
      "The Armstrong numbers from 100 to 500 are\n",
      "153\n",
      "370\n",
      "371\n",
      "407\n"
     ]
    }
   ],
   "source": [
    "def armstrong(x, y):\n",
    "    for i in range(x, y+1):\n",
    "        num = i\n",
    "        result = 0\n",
    "        n = len(str(i))\n",
    "        while(i != 0):\n",
    "            digit = i % 10\n",
    "            result = result + digit ** n\n",
    "            i = i//10\n",
    "        if num == result:\n",
    "            print(num)\n",
    "initial = int(input(\"Enter the start number: \"))\n",
    "final = int(input(\"Enter the final number: \"))\n",
    "print(\"The Armstrong numbers from\", initial, \"to\", final, \"are\")\n",
    "armstrong(initial, final)\n"
   ]
  },
  {
   "cell_type": "markdown",
   "metadata": {},
   "source": [
    "Create a function for getting the prime numbers within the range\n",
    "\n"
   ]
  },
  {
   "cell_type": "code",
   "execution_count": 6,
   "metadata": {},
   "outputs": [
    {
     "name": "stdout",
     "output_type": "stream",
     "text": [
      "Enter the start number: 1\n",
      "Enter the end number: 10\n",
      "Prime numbers between 1 and 10 are\n",
      "1\n",
      "2\n",
      "3\n",
      "5\n",
      "7\n"
     ]
    }
   ],
   "source": [
    "def prime_number(x1, x2):\n",
    "    for number in range(x1, x2+1):\n",
    "        for i in range(2, number):\n",
    "            if number%i == 0:\n",
    "                break\n",
    "        else:\n",
    "            print(number)\n",
    "    \n",
    "start = int(input(\"Enter the start number: \"))\n",
    "end = int(input(\"Enter the end number: \"))\n",
    "print(\"Prime numbers between\", start, \"and\", end, \"are\")\n",
    "prime_number(start,end)\n"
   ]
  },
  {
   "cell_type": "markdown",
   "metadata": {},
   "source": [
    "Create a function for finding the count of elements in a string\n",
    "\n"
   ]
  },
  {
   "cell_type": "code",
   "execution_count": 7,
   "metadata": {},
   "outputs": [
    {
     "name": "stdout",
     "output_type": "stream",
     "text": [
      "Enter a string: tejaswini\n",
      "Count of elements in the string is: 9\n"
     ]
    }
   ],
   "source": [
    "def count(string):\n",
    "    count_str = 0\n",
    "    for i in string:\n",
    "        count_str = count_str + 1\n",
    "    return count_str \n",
    "inp = input(\"Enter a string: \")\n",
    "print(\"Count of elements in the string is:\",count(inp))\n"
   ]
  },
  {
   "cell_type": "code",
   "execution_count": null,
   "metadata": {},
   "outputs": [],
   "source": []
  }
 ],
 "metadata": {
  "kernelspec": {
   "display_name": "Python 3",
   "language": "python",
   "name": "python3"
  },
  "language_info": {
   "codemirror_mode": {
    "name": "ipython",
    "version": 3
   },
   "file_extension": ".py",
   "mimetype": "text/x-python",
   "name": "python",
   "nbconvert_exporter": "python",
   "pygments_lexer": "ipython3",
   "version": "3.7.3"
  }
 },
 "nbformat": 4,
 "nbformat_minor": 2
}
