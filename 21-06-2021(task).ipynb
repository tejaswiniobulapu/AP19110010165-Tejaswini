{
 "cells": [
  {
   "cell_type": "markdown",
   "metadata": {},
   "source": [
    "## Task Day-13 (21-06-21)"
   ]
  },
  {
   "cell_type": "markdown",
   "metadata": {},
   "source": [
    "#### Create arrays with all the data types available in numpy\n"
   ]
  },
  {
   "cell_type": "code",
   "execution_count": 1,
   "metadata": {},
   "outputs": [],
   "source": [
    "import numpy as np"
   ]
  },
  {
   "cell_type": "code",
   "execution_count": 2,
   "metadata": {},
   "outputs": [
    {
     "name": "stdout",
     "output_type": "stream",
     "text": [
      "[False False False  True]\n",
      "bool\n"
     ]
    }
   ],
   "source": [
    "#boolean\n",
    "x = np.array([False, False, False, True], dtype = 'bool_')\n",
    "print(x)\n",
    "print(x.dtype)"
   ]
  },
  {
   "cell_type": "code",
   "execution_count": 3,
   "metadata": {},
   "outputs": [
    {
     "name": "stdout",
     "output_type": "stream",
     "text": [
      "[4 2 0]\n",
      "int32\n"
     ]
    }
   ],
   "source": [
    "#integer\n",
    "x = np.array([4, 2, 0], dtype = 'int_')\n",
    "print(x)\n",
    "print(x.dtype)"
   ]
  },
  {
   "cell_type": "code",
   "execution_count": 4,
   "metadata": {},
   "outputs": [
    {
     "name": "stdout",
     "output_type": "stream",
     "text": [
      "[6.9  4.2  2.2  8.01 5.6 ]\n",
      "float64\n"
     ]
    }
   ],
   "source": [
    "#Float\n",
    "x = np.array([6.9, 4.2, 2.2, 8.01, 5.6], dtype = 'float_')\n",
    "print(x)\n",
    "print(x.dtype)"
   ]
  },
  {
   "cell_type": "code",
   "execution_count": 5,
   "metadata": {},
   "outputs": [
    {
     "name": "stdout",
     "output_type": "stream",
     "text": [
      "[b'a' b'k' b'y']\n",
      "|S1\n"
     ]
    }
   ],
   "source": [
    "#string\n",
    "x = np.array(['a', 'k', 'y'], dtype = 'S')\n",
    "print(x)\n",
    "print(x.dtype)"
   ]
  },
  {
   "cell_type": "code",
   "execution_count": 6,
   "metadata": {},
   "outputs": [
    {
     "name": "stdout",
     "output_type": "stream",
     "text": [
      "[3.+1.j  1.-2.j  2.+2.2j]\n",
      "complex128\n"
     ]
    }
   ],
   "source": [
    "#complex\n",
    "x = np.array([3+1j, 1-2j, 2+2.2j], dtype = 'complex_')\n",
    "print(x)\n",
    "print(x.dtype)\n"
   ]
  },
  {
   "cell_type": "code",
   "execution_count": 7,
   "metadata": {},
   "outputs": [
    {
     "name": "stdout",
     "output_type": "stream",
     "text": [
      "['9' '8' '7' '6']\n",
      "<U1\n"
     ]
    }
   ],
   "source": [
    "#unicode\n",
    "x = np.array([9, 8, 7, 6], dtype = 'U')\n",
    "print(x)\n",
    "print(x.dtype)\n"
   ]
  },
  {
   "cell_type": "code",
   "execution_count": 8,
   "metadata": {},
   "outputs": [
    {
     "name": "stdout",
     "output_type": "stream",
     "text": [
      "[9 8 7 6]\n",
      "uint8\n"
     ]
    }
   ],
   "source": [
    "#unsloved integer\n",
    "x = np.array([9, 8, 7, 6], dtype = 'uint8')\n",
    "print(x)\n",
    "print(x.dtype)\n"
   ]
  },
  {
   "cell_type": "code",
   "execution_count": 9,
   "metadata": {},
   "outputs": [
    {
     "name": "stdout",
     "output_type": "stream",
     "text": [
      "[[9 8]\n",
      " [7 1]\n",
      " [6.9 4.2]\n",
      " ['dude' 'bruh']]\n",
      "object\n"
     ]
    }
   ],
   "source": [
    "#object\n",
    "x = np.array([[9, 8], [7, 1], [6.9, 4.2], ['dude', 'bruh']], dtype = 'O')\n",
    "print(x)\n",
    "print(x.dtype)\n"
   ]
  }
 ],
 "metadata": {
  "kernelspec": {
   "display_name": "Python 3",
   "language": "python",
   "name": "python3"
  },
  "language_info": {
   "codemirror_mode": {
    "name": "ipython",
    "version": 3
   },
   "file_extension": ".py",
   "mimetype": "text/x-python",
   "name": "python",
   "nbconvert_exporter": "python",
   "pygments_lexer": "ipython3",
   "version": "3.7.3"
  }
 },
 "nbformat": 4,
 "nbformat_minor": 2
}
